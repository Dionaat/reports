{
  "nbformat": 4,
  "nbformat_minor": 0,
  "metadata": {
    "colab": {
      "name": "Untitled2.ipynb",
      "provenance": [],
      "authorship_tag": "ABX9TyPnRnwp4v309X0sHhWY0Ptj",
      "include_colab_link": true
    },
    "kernelspec": {
      "name": "python3",
      "display_name": "Python 3"
    },
    "language_info": {
      "name": "python"
    }
  },
  "cells": [
    {
      "cell_type": "markdown",
      "metadata": {
        "id": "view-in-github",
        "colab_type": "text"
      },
      "source": [
        "<a href=\"https://colab.research.google.com/github/Dionaat/reports/blob/main/PZ_11.ipynb\" target=\"_parent\"><img src=\"https://colab.research.google.com/assets/colab-badge.svg\" alt=\"Open In Colab\"/></a>"
      ]
    },
    {
      "cell_type": "code",
      "execution_count": 1,
      "metadata": {
        "colab": {
          "base_uri": "https://localhost:8080/"
        },
        "id": "tLsQRWZeEvls",
        "outputId": "16c3f018-bd11-4c5f-ee95-e7caa3579e4d"
      },
      "outputs": [
        {
          "output_type": "stream",
          "name": "stdout",
          "text": [
            "вверите первую цифру: 4\n",
            "вверите вторую цифру: 5\n",
            "вверите третью цифру: 5\n",
            "вверите чертвертую цифру: 4\n",
            "читается туда и обратно одинаково\n"
          ]
        }
      ],
      "source": [
        "#дано четырёхзначное число. Проверить выссказывание: \"данное число читается одинаково слева направо и наоборот\"\n",
        "#4554\n",
        "\n",
        "p = input(\"вверите первую цифру: \")\n",
        "v = input(\"вверите вторую цифру: \")\n",
        "t = input(\"вверите третью цифру: \")\n",
        "c = input(\"вверите чертвертую цифру: \")\n",
        "\n",
        "while True:        #проверка\n",
        "    try:\n",
        "        p = int(p)\n",
        "        v = int(v)\n",
        "        t = int(t)\n",
        "        c = int(c)\n",
        "        break\n",
        "    except ValueError:\n",
        "        print('Что-то пошло не так :с попробуй снова')\n",
        "        p = input(\"вверите первую цифру: \")\n",
        "        v = input(\"вверите вторую цифру: \")\n",
        "        t = input(\"вверите третью цифру: \")\n",
        "        c = input(\"вверите чертвертую цифру: \")\n",
        "\n",
        "if (p == c) and (v == t):\n",
        "    print(\"читается туда и обратно одинаково\")\n",
        "else:\n",
        "    print(\"выссказывание ложно\")"
      ]
    },
    {
      "cell_type": "code",
      "source": [
        "# Даны целые числа A и B (A>B). Вывести все целые числа от A до B включительно;\n",
        "# при этом число A длолжно выводиться 1 раз,число A+1 2 раза и т.д.\n",
        "\n",
        "\n",
        "# проверка\n",
        "while True:\n",
        "    try:\n",
        "        A = int(input('введите A: '))\n",
        "        B = int(input('введите B: '))\n",
        "        if A < B:\n",
        "            break\n",
        "        else:\n",
        "            print('Что-то пошло не так :с попробуй снова')\n",
        "    except ValueError:\n",
        "        print('Что-то пошло не так :с попробуй снова')\n",
        "\n",
        "ans = 0\n",
        "while A <= B:\n",
        "    ans += A\n",
        "    print(str(A) * A)\n",
        "    A += 1"
      ],
      "metadata": {
        "colab": {
          "base_uri": "https://localhost:8080/"
        },
        "id": "aG8Drp4zFAQO",
        "outputId": "32740ba5-bc56-4f0b-d971-f37f51dd41be"
      },
      "execution_count": 2,
      "outputs": [
        {
          "output_type": "stream",
          "name": "stdout",
          "text": [
            "введите A: 1\n",
            "введите B: 4\n",
            "1\n",
            "22\n",
            "333\n",
            "4444\n"
          ]
        }
      ]
    },
    {
      "cell_type": "code",
      "source": [
        "# составить функцю, котрая выведет на экран строку, содержащую задаваемое с клавиатуры число\n",
        "\n",
        "def printnum():\n",
        "    print(input('введи число: '))\n",
        "\n",
        "\n",
        "printnum()\n"
      ],
      "metadata": {
        "colab": {
          "base_uri": "https://localhost:8080/"
        },
        "id": "R2lvenx1FG1s",
        "outputId": "0848314f-d35a-4b29-f709-03176650a176"
      },
      "execution_count": 3,
      "outputs": [
        {
          "output_type": "stream",
          "name": "stdout",
          "text": [
            "введи число: 346\n",
            "346\n"
          ]
        }
      ]
    }
  ]
}